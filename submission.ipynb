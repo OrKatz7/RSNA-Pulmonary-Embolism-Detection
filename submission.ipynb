{
 "cells": [
  {
   "cell_type": "code",
   "execution_count": 1,
   "metadata": {
    "execution": {
     "iopub.execute_input": "2020-10-27T10:42:48.730868Z",
     "iopub.status.busy": "2020-10-27T10:42:48.729930Z",
     "iopub.status.idle": "2020-10-27T10:43:21.599081Z",
     "shell.execute_reply": "2020-10-27T10:43:21.598030Z"
    },
    "papermill": {
     "duration": 32.9066,
     "end_time": "2020-10-27T10:43:21.599267",
     "exception": false,
     "start_time": "2020-10-27T10:42:48.692667",
     "status": "completed"
    },
    "tags": []
   },
   "outputs": [
    {
     "name": "stdout",
     "output_type": "stream",
     "text": [
      "gdcm/\r\n",
      "gdcm/conda-4.8.4-py37hc8dfbb8_2.tar.bz2\r\n",
      "gdcm/gdcm-2.8.9-py37h71b2a6d_0.tar.bz2\r\n",
      "gdcm/libjpeg-turbo-2.0.3-h516909a_1.tar.bz2\r\n",
      "\r\n",
      "Downloading and Extracting Packages\r\n",
      "######################################################################## | 100% \r\n",
      "Preparing transaction: - \b\bdone\r\n",
      "Verifying transaction: | \b\b/ \b\bdone\r\n",
      "Executing transaction: \\ \b\bdone\r\n"
     ]
    }
   ],
   "source": [
    "!cp ../input/gdcm-conda-install/gdcm.tar .\n",
    "!tar -xvzf gdcm.tar\n",
    "!conda install --offline ./gdcm/gdcm-2.8.9-py37h71b2a6d_0.tar.bz2"
   ]
  },
  {
   "cell_type": "code",
   "execution_count": 2,
   "metadata": {
    "execution": {
     "iopub.execute_input": "2020-10-27T10:43:21.669609Z",
     "iopub.status.busy": "2020-10-27T10:43:21.664683Z",
     "iopub.status.idle": "2020-10-27T10:43:51.810353Z",
     "shell.execute_reply": "2020-10-27T10:43:51.809703Z"
    },
    "papermill": {
     "duration": 30.181609,
     "end_time": "2020-10-27T10:43:51.810489",
     "exception": false,
     "start_time": "2020-10-27T10:43:21.628880",
     "status": "completed"
    },
    "tags": []
   },
   "outputs": [
    {
     "name": "stdout",
     "output_type": "stream",
     "text": [
      "Processing /kaggle/input/efficientnet-pytorch063/efficientnet_pytorch-0.6.3-py3-none-any.whl\r\n",
      "Requirement already satisfied: torch in /opt/conda/lib/python3.7/site-packages (from efficientnet-pytorch==0.6.3) (1.5.1)\r\n",
      "Requirement already satisfied: future in /opt/conda/lib/python3.7/site-packages (from torch->efficientnet-pytorch==0.6.3) (0.18.2)\r\n",
      "Requirement already satisfied: numpy in /opt/conda/lib/python3.7/site-packages (from torch->efficientnet-pytorch==0.6.3) (1.18.5)\r\n",
      "Installing collected packages: efficientnet-pytorch\r\n",
      "Successfully installed efficientnet-pytorch-0.6.3\r\n"
     ]
    }
   ],
   "source": [
    "!pip install ../input/efficientnet-pytorch063/efficientnet_pytorch-0.6.3-py3-none-any.whl"
   ]
  },
  {
   "cell_type": "code",
   "execution_count": 3,
   "metadata": {
    "execution": {
     "iopub.execute_input": "2020-10-27T10:43:51.885799Z",
     "iopub.status.busy": "2020-10-27T10:43:51.882506Z",
     "iopub.status.idle": "2020-10-27T10:44:21.132359Z",
     "shell.execute_reply": "2020-10-27T10:44:21.131530Z"
    },
    "papermill": {
     "duration": 29.288242,
     "end_time": "2020-10-27T10:44:21.132553",
     "exception": false,
     "start_time": "2020-10-27T10:43:51.844311",
     "status": "completed"
    },
    "tags": []
   },
   "outputs": [],
   "source": [
    "!pip install -q ../input/noamior/monai-0.3.0-202010042353-py3-none-any.whl"
   ]
  },
  {
   "cell_type": "code",
   "execution_count": 4,
   "metadata": {
    "execution": {
     "iopub.execute_input": "2020-10-27T10:44:21.225737Z",
     "iopub.status.busy": "2020-10-27T10:44:21.224753Z",
     "iopub.status.idle": "2020-10-27T10:44:22.599962Z",
     "shell.execute_reply": "2020-10-27T10:44:22.600555Z"
    },
    "papermill": {
     "duration": 1.412522,
     "end_time": "2020-10-27T10:44:22.600706",
     "exception": false,
     "start_time": "2020-10-27T10:44:21.188184",
     "status": "completed"
    },
    "tags": []
   },
   "outputs": [
    {
     "data": {
      "text/plain": [
       "'0.6.3'"
      ]
     },
     "execution_count": 4,
     "metadata": {},
     "output_type": "execute_result"
    }
   ],
   "source": [
    "import gdcm\n",
    "from efficientnet_pytorch import EfficientNet\n",
    "import efficientnet_pytorch\n",
    "import torch\n",
    "efficientnet_pytorch.__version__"
   ]
  },
  {
   "cell_type": "code",
   "execution_count": 5,
   "metadata": {
    "execution": {
     "iopub.execute_input": "2020-10-27T10:44:22.677487Z",
     "iopub.status.busy": "2020-10-27T10:44:22.676533Z",
     "iopub.status.idle": "2020-10-27T10:44:22.679988Z",
     "shell.execute_reply": "2020-10-27T10:44:22.679418Z"
    },
    "papermill": {
     "duration": 0.047194,
     "end_time": "2020-10-27T10:44:22.680106",
     "exception": false,
     "start_time": "2020-10-27T10:44:22.632912",
     "status": "completed"
    },
    "tags": []
   },
   "outputs": [],
   "source": [
    "def load_cnn(filepath,name):\n",
    "    cnn5 = EfficientNet.from_name(name).cuda()\n",
    "    if name == 'efficientnet-b5':\n",
    "        cnn5._fc = torch.nn.Linear(in_features=2048, out_features=1, bias=True)\n",
    "    elif name == 'efficientnet-b4':\n",
    "        cnn5._fc = torch.nn.Linear(in_features=1536+256, out_features=1, bias=True)\n",
    "    elif name == 'efficientnet-b3':\n",
    "        cnn5._fc = torch.nn.Linear(in_features=1536, out_features=1, bias=True)\n",
    "    elif name == 'efficientnet-b2':\n",
    "        cnn5._fc = torch.nn.Linear(in_features=1408, out_features=1, bias=True)\n",
    "    cnn5 = torch.nn.DataParallel(cnn5)\n",
    "    cnn5.load_state_dict(torch.load(filepath))\n",
    "    cnn5.eval()\n",
    "    return cnn5"
   ]
  },
  {
   "cell_type": "code",
   "execution_count": 6,
   "metadata": {
    "execution": {
     "iopub.execute_input": "2020-10-27T10:44:22.749847Z",
     "iopub.status.busy": "2020-10-27T10:44:22.749126Z",
     "iopub.status.idle": "2020-10-27T10:44:22.757700Z",
     "shell.execute_reply": "2020-10-27T10:44:22.757069Z"
    },
    "papermill": {
     "duration": 0.045625,
     "end_time": "2020-10-27T10:44:22.757814",
     "exception": false,
     "start_time": "2020-10-27T10:44:22.712189",
     "status": "completed"
    },
    "tags": []
   },
   "outputs": [
    {
     "data": {
      "text/plain": [
       "['efficientnet-b5_cnn_4_best.pth',\n",
       " 'efficientnet-b4_cnn_4_best.pth',\n",
       " 'efficientnet-b3_cnn_2_last.pth',\n",
       " 'efficientnet-b5_cnn_1_best.pth',\n",
       " 'efficientnet-b5_cnn_3_best.pth',\n",
       " 'efficientnet-b4_cnn_1_best.pth',\n",
       " 'efficientnet-b3_cnn_1_best.pth',\n",
       " 'efficientnet-b2_cnn_2_best.pth',\n",
       " 'efficientnet-b3_cnn_0_best.pth',\n",
       " 'efficientnet-b2_cnn_3_best.pth',\n",
       " 'efficientnet-b4_cnn_3_best.pth',\n",
       " 'lstm_pe_neg43_best.pth',\n",
       " 'efficientnet-b3_cnn_4_best.pth',\n",
       " 'efficientnet-b3_cnn_2_best.pth',\n",
       " 'efficientnet-b2_cnn_1_best.pth',\n",
       " 'efficientnet-b5_cnn_2_best.pth',\n",
       " 'efficientnet-b2_cnn_0_best.pth',\n",
       " 'efficientnet-b4_cnn_2_best.pth',\n",
       " 'efficientnet-b4_cnn_0_best.pth',\n",
       " 'efficientnet-b2_cnn_4_best.pth',\n",
       " 'efficientnet-b3_cnn_3_best.pth',\n",
       " 'lstm1_val_best.pth',\n",
       " 'efficientnet-b5_cnn_0_best.pth']"
      ]
     },
     "execution_count": 6,
     "metadata": {},
     "output_type": "execute_result"
    }
   ],
   "source": [
    "import os\n",
    "os.listdir('../input/rsnalstm2/')"
   ]
  },
  {
   "cell_type": "code",
   "execution_count": 7,
   "metadata": {
    "execution": {
     "iopub.execute_input": "2020-10-27T10:44:22.831639Z",
     "iopub.status.busy": "2020-10-27T10:44:22.830900Z",
     "iopub.status.idle": "2020-10-27T10:44:31.707634Z",
     "shell.execute_reply": "2020-10-27T10:44:31.708857Z"
    },
    "papermill": {
     "duration": 8.918579,
     "end_time": "2020-10-27T10:44:31.709055",
     "exception": false,
     "start_time": "2020-10-27T10:44:22.790476",
     "status": "completed"
    },
    "tags": []
   },
   "outputs": [],
   "source": [
    "cnnb3 = [load_cnn(f'../input/rsnalstm2/efficientnet-b3_cnn_{row}_best.pth','efficientnet-b3') for row in [2,3]]\n",
    "cnnb4 = [load_cnn(f'../input/rsnalstm2/efficientnet-b4_cnn_{row}_best.pth','efficientnet-b4') for row in [2,4]]\n",
    "cnnb5 = [load_cnn(f'../input/rsnalstm2/efficientnet-b5_cnn_{row}_best.pth','efficientnet-b5') for row in [1,3]]"
   ]
  },
  {
   "cell_type": "code",
   "execution_count": 8,
   "metadata": {
    "_cell_guid": "b1076dfc-b9ad-4769-8c92-a6c4dae69d19",
    "_uuid": "8f2839f25d086af736a60e9eeb907d3b93b6e0e5",
    "execution": {
     "iopub.execute_input": "2020-10-27T10:44:31.812251Z",
     "iopub.status.busy": "2020-10-27T10:44:31.811129Z",
     "iopub.status.idle": "2020-10-27T10:44:33.605426Z",
     "shell.execute_reply": "2020-10-27T10:44:33.604126Z"
    },
    "papermill": {
     "duration": 1.848066,
     "end_time": "2020-10-27T10:44:33.605606",
     "exception": false,
     "start_time": "2020-10-27T10:44:31.757540",
     "status": "completed"
    },
    "tags": []
   },
   "outputs": [],
   "source": [
    "import numpy as np # linear algebra\n",
    "import pandas as pd # data processing, CSV file I/O (e.g. pd.read_csv)\n",
    "import glob\n",
    "import cv2\n",
    "import os\n",
    "from matplotlib import pyplot as plt\n",
    "import os\n",
    "import cv2\n",
    "import numpy as np\n",
    "import pandas as pd\n",
    "from torch.utils.data import TensorDataset, DataLoader,Dataset\n",
    "import albumentations as albu\n",
    "import functools\n",
    "import torch\n",
    "from tqdm.auto import tqdm\n",
    "from joblib import Parallel, delayed\n",
    "from joblib import parallel_backend"
   ]
  },
  {
   "cell_type": "code",
   "execution_count": 9,
   "metadata": {
    "_cell_guid": "79c7e3d0-c299-4dcb-8224-4455121ee9b0",
    "_uuid": "d629ff2d2480ee46fbb7e2d37f6b5fab8052498a",
    "execution": {
     "iopub.execute_input": "2020-10-27T10:44:33.676693Z",
     "iopub.status.busy": "2020-10-27T10:44:33.675965Z",
     "iopub.status.idle": "2020-10-27T10:44:33.680901Z",
     "shell.execute_reply": "2020-10-27T10:44:33.680237Z"
    },
    "papermill": {
     "duration": 0.041529,
     "end_time": "2020-10-27T10:44:33.681025",
     "exception": false,
     "start_time": "2020-10-27T10:44:33.639496",
     "status": "completed"
    },
    "tags": []
   },
   "outputs": [],
   "source": [
    "test_csv_path = '../input/rsna-str-pulmonary-embolism-detection/test.csv'"
   ]
  },
  {
   "cell_type": "code",
   "execution_count": 10,
   "metadata": {
    "execution": {
     "iopub.execute_input": "2020-10-27T10:44:33.755011Z",
     "iopub.status.busy": "2020-10-27T10:44:33.754102Z",
     "iopub.status.idle": "2020-10-27T10:44:33.930644Z",
     "shell.execute_reply": "2020-10-27T10:44:33.930046Z"
    },
    "papermill": {
     "duration": 0.215992,
     "end_time": "2020-10-27T10:44:33.930774",
     "exception": false,
     "start_time": "2020-10-27T10:44:33.714782",
     "status": "completed"
    },
    "tags": []
   },
   "outputs": [
    {
     "data": {
      "text/html": [
       "<div>\n",
       "<style scoped>\n",
       "    .dataframe tbody tr th:only-of-type {\n",
       "        vertical-align: middle;\n",
       "    }\n",
       "\n",
       "    .dataframe tbody tr th {\n",
       "        vertical-align: top;\n",
       "    }\n",
       "\n",
       "    .dataframe thead th {\n",
       "        text-align: right;\n",
       "    }\n",
       "</style>\n",
       "<table border=\"1\" class=\"dataframe\">\n",
       "  <thead>\n",
       "    <tr style=\"text-align: right;\">\n",
       "      <th></th>\n",
       "      <th>StudyInstanceUID</th>\n",
       "      <th>SeriesInstanceUID</th>\n",
       "      <th>SOPInstanceUID</th>\n",
       "    </tr>\n",
       "  </thead>\n",
       "  <tbody>\n",
       "    <tr>\n",
       "      <th>0</th>\n",
       "      <td>df06fad17bc3</td>\n",
       "      <td>857e3d760445</td>\n",
       "      <td>c3163725fcf6</td>\n",
       "    </tr>\n",
       "    <tr>\n",
       "      <th>1</th>\n",
       "      <td>df06fad17bc3</td>\n",
       "      <td>857e3d760445</td>\n",
       "      <td>d54a8daaf836</td>\n",
       "    </tr>\n",
       "    <tr>\n",
       "      <th>2</th>\n",
       "      <td>df06fad17bc3</td>\n",
       "      <td>857e3d760445</td>\n",
       "      <td>bdc531b699cd</td>\n",
       "    </tr>\n",
       "    <tr>\n",
       "      <th>3</th>\n",
       "      <td>df06fad17bc3</td>\n",
       "      <td>857e3d760445</td>\n",
       "      <td>9e6a68e27df0</td>\n",
       "    </tr>\n",
       "    <tr>\n",
       "      <th>4</th>\n",
       "      <td>df06fad17bc3</td>\n",
       "      <td>857e3d760445</td>\n",
       "      <td>25e3307ba7da</td>\n",
       "    </tr>\n",
       "  </tbody>\n",
       "</table>\n",
       "</div>"
      ],
      "text/plain": [
       "  StudyInstanceUID SeriesInstanceUID SOPInstanceUID\n",
       "0     df06fad17bc3      857e3d760445   c3163725fcf6\n",
       "1     df06fad17bc3      857e3d760445   d54a8daaf836\n",
       "2     df06fad17bc3      857e3d760445   bdc531b699cd\n",
       "3     df06fad17bc3      857e3d760445   9e6a68e27df0\n",
       "4     df06fad17bc3      857e3d760445   25e3307ba7da"
      ]
     },
     "execution_count": 10,
     "metadata": {},
     "output_type": "execute_result"
    }
   ],
   "source": [
    "df = pd.read_csv(test_csv_path)\n",
    "df.head()"
   ]
  },
  {
   "cell_type": "code",
   "execution_count": 11,
   "metadata": {
    "execution": {
     "iopub.execute_input": "2020-10-27T10:44:34.021315Z",
     "iopub.status.busy": "2020-10-27T10:44:34.020474Z",
     "iopub.status.idle": "2020-10-27T10:44:34.102384Z",
     "shell.execute_reply": "2020-10-27T10:44:34.100784Z"
    },
    "papermill": {
     "duration": 0.137251,
     "end_time": "2020-10-27T10:44:34.102512",
     "exception": false,
     "start_time": "2020-10-27T10:44:33.965261",
     "status": "completed"
    },
    "tags": []
   },
   "outputs": [],
   "source": [
    "import pydicom\n",
    "import cv2\n",
    "import os, os.path as osp\n",
    "\n",
    "from scipy.ndimage.interpolation import zoom\n",
    "from torch.utils.data import Dataset, DataLoader\n",
    "from tqdm import tqdm\n",
    "\n",
    "def pixel_array(d):\n",
    "    return d.pixel_array\n",
    "def load_dicom_array(f):\n",
    "    dicom_files = glob.glob(osp.join(f, '*.dcm'))\n",
    "    dicoms = [pydicom.dcmread(d) for d in dicom_files]\n",
    "    M = float(dicoms[0].RescaleSlope)\n",
    "    B = float(dicoms[0].RescaleIntercept)\n",
    "    z_pos = [float(d.ImagePositionPatient[-1]) for d in dicoms]\n",
    "    dicoms = np.asarray([d.pixel_array for d in dicoms])\n",
    "    dicoms = dicoms[np.argsort(z_pos)]\n",
    "    dicoms = dicoms * M\n",
    "    dicoms = dicoms + B\n",
    "    return dicoms, np.asarray(dicom_files)[np.argsort(z_pos)]\n",
    "\n",
    "\n",
    "def window(img, WL=50, WW=350):\n",
    "    upper, lower = WL+WW//2, WL-WW//2\n",
    "    X = np.clip(img.copy(), lower, upper)\n",
    "    X = X - np.min(X)\n",
    "    X = X / np.max(X)\n",
    "    X = (X*255.0).astype('uint8')\n",
    "    return X\n",
    "\n",
    "\n",
    "def save_array(X, save_dir, file_names):\n",
    "    for ind, img in enumerate(X):\n",
    "        savefile = osp.join(save_dir, file_names[ind])\n",
    "        if not osp.exists(osp.dirname(savefile)): \n",
    "            os.makedirs(osp.dirname(savefile))\n",
    "        _ = cv2.imwrite(osp.join(save_dir, file_names[ind]), img)\n",
    "\n",
    "\n",
    "def edit_filenames(files):\n",
    "    dicoms = [f\"{ind:04d}_{f.split('/')[-1].replace('dcm','jpg')}\" for ind,f in enumerate(files)]\n",
    "    series = ['/'.join(f.split('/')[-3:-1]) for f in files]\n",
    "    return [osp.join(s,d) for s,d in zip(series, dicoms)]"
   ]
  },
  {
   "cell_type": "code",
   "execution_count": 12,
   "metadata": {
    "execution": {
     "iopub.execute_input": "2020-10-27T10:44:34.177966Z",
     "iopub.status.busy": "2020-10-27T10:44:34.175932Z",
     "iopub.status.idle": "2020-10-27T10:44:34.178838Z",
     "shell.execute_reply": "2020-10-27T10:44:34.179417Z"
    },
    "papermill": {
     "duration": 0.043284,
     "end_time": "2020-10-27T10:44:34.179558",
     "exception": false,
     "start_time": "2020-10-27T10:44:34.136274",
     "status": "completed"
    },
    "tags": []
   },
   "outputs": [],
   "source": [
    "class config:\n",
    "    model_name=\"b5\"\n",
    "    batch_size = 1\n",
    "    WORKERS = 0\n",
    "    classes =14\n",
    "    resume = False\n",
    "    epochs = 1\n",
    "    MODEL_PATH = 'log/cpt'\n",
    "    if not os.path.exists(MODEL_PATH):\n",
    "        os.makedirs(MODEL_PATH)"
   ]
  },
  {
   "cell_type": "code",
   "execution_count": 13,
   "metadata": {
    "execution": {
     "iopub.execute_input": "2020-10-27T10:44:34.261068Z",
     "iopub.status.busy": "2020-10-27T10:44:34.250470Z",
     "iopub.status.idle": "2020-10-27T10:44:35.228672Z",
     "shell.execute_reply": "2020-10-27T10:44:35.228048Z"
    },
    "papermill": {
     "duration": 1.015585,
     "end_time": "2020-10-27T10:44:35.229023",
     "exception": false,
     "start_time": "2020-10-27T10:44:34.213438",
     "status": "completed"
    },
    "tags": []
   },
   "outputs": [],
   "source": [
    "def get_training_augmentation(y=256,x=256):\n",
    "    train_transform = [albu.RandomBrightnessContrast(p=0.3),\n",
    "                           albu.VerticalFlip(p=0.5),\n",
    "                           albu.HorizontalFlip(p=0.5),\n",
    "                           albu.Downscale(p=1.0,scale_min=0.35,scale_max=0.75,),\n",
    "                           albu.Resize(y, x)]\n",
    "    return albu.Compose(train_transform)\n",
    "\n",
    "\n",
    "formatted_settings = {\n",
    "            'input_size': [3, 224, 224],\n",
    "            'input_range': [0, 1],\n",
    "            'mean': [0.485, 0.456, 0.406],\n",
    "            'std': [0.229, 0.224, 0.225],}\n",
    "def preprocess_input(\n",
    "    x, mean=None, std=None, input_space=\"RGB\", input_range=None, **kwargs\n",
    "):\n",
    "\n",
    "    if input_space == \"BGR\":\n",
    "        x = x[..., ::-1].copy()\n",
    "\n",
    "    if input_range is not None:\n",
    "        if x.max() > 1 and input_range[1] == 1:\n",
    "            x = x / 255.0\n",
    "\n",
    "#     if mean is not None:\n",
    "#         mean = np.array(mean)\n",
    "#         x = x - mean\n",
    "\n",
    "#     if std is not None:\n",
    "#         std = np.array(std)\n",
    "#         x = x / std\n",
    "\n",
    "    return x\n",
    "\n",
    "def get_preprocessing(preprocessing_fn):\n",
    "    _transform = [\n",
    "        albu.Lambda(image=preprocessing_fn),\n",
    "        albu.Lambda(image=to_tensor, mask=to_tensor),\n",
    "    ]\n",
    "    return albu.Compose(_transform)\n",
    "\n",
    "def get_validation_augmentation(y=224,x=224):\n",
    "    \"\"\"Add paddings to make image shape divisible by 32\"\"\"\n",
    "    test_transform = [albu.Resize(256, 256),albu.CenterCrop(y,x)]\n",
    "    return albu.Compose(test_transform)\n",
    "\n",
    "def to_tensor(x, **kwargs):\n",
    "    \"\"\"\n",
    "    Convert image or mask.\n",
    "    \"\"\"\n",
    "    return x.transpose(2, 0, 1).astype('float32')\n",
    "\n",
    "def norm(img):\n",
    "    img-=img.min()\n",
    "    return img/img.max()\n",
    "\n",
    "import monai\n",
    "from monai.transforms import LoadNifti, Randomizable, apply_transform\n",
    "from monai.transforms import AddChannel, Compose, RandRotate90, Resize, ScaleIntensity, ToTensor\n",
    "from monai.utils import get_seed\n",
    "import time\n",
    "class Lungs(Dataset, Randomizable):\n",
    "    def __init__(self, dicom_folders):\n",
    "        self.dicom_folders = dicom_folders\n",
    "        self.transforms = get_validation_augmentation()\n",
    "        self.preprocessing = get_preprocessing(functools.partial(preprocess_input, **formatted_settings))\n",
    "        self.transform3d = Compose([ScaleIntensity(), Resize((160, 160, 160)), ToTensor()])\n",
    "    def __len__(self): \n",
    "        return len(self.dicom_folders)\n",
    "    \n",
    "    def randomize(self) -> None:\n",
    "        MAX_SEED = np.iinfo(np.uint32).max + 1\n",
    "        self._seed = self.R.randint(MAX_SEED, dtype=\"uint32\") \n",
    "        \n",
    "    def get(self, i):\n",
    "        s = time.time()\n",
    "        data = load_dicom_array(self.dicom_folders[i])\n",
    "        image, files = data\n",
    "        image_lung = np.expand_dims(window(image, WL=-600, WW=1500), axis=3)\n",
    "        image_mediastinal = np.expand_dims(window(image, WL=40, WW=400), axis=3)\n",
    "        image_pe_specific = np.expand_dims(window(image, WL=100, WW=700), axis=3)\n",
    "        image = np.concatenate([image_mediastinal, image_pe_specific, image_lung], axis=3)\n",
    "        rat = MAX_LENGTH / np.max(image.shape[1:])\n",
    "        names = [row.split(\".dcm\")[0].split(\"/\")[-3:] for row in files]\n",
    "        images = []\n",
    "        for img in image:\n",
    "            if self.transforms:\n",
    "                img = self.transforms(image=img)['image']\n",
    "            if self.preprocessing:\n",
    "                img = self.preprocessing(image=img)['image']\n",
    "            images.append(img)\n",
    "        images = np.array(images)\n",
    "        img = images[:,::-1].transpose(1,2,3,0)\n",
    "        if self.transform3d is not None:\n",
    "            if isinstance(self.transform3d, Randomizable):\n",
    "                self.transform3d.set_random_state(seed=self._seed)\n",
    "            img = apply_transform(self.transform3d, img)\n",
    "            \n",
    "        return torch.from_numpy(images),names,img\n",
    "    \n",
    "    def __getitem__(self, i):\n",
    "        self.randomize()\n",
    "        try:\n",
    "            return self.get(i)\n",
    "        except Exception as e:\n",
    "            print(e)\n",
    "            return None,None\n",
    "\n",
    "MAX_LENGTH = 256.\n",
    "\n",
    "dicom_folders = list(('../input/rsna-str-pulmonary-embolism-detection/test/' + df.StudyInstanceUID + '/'+ df.SeriesInstanceUID).unique())\n",
    "dset = Lungs(dicom_folders)"
   ]
  },
  {
   "cell_type": "code",
   "execution_count": 14,
   "metadata": {
    "execution": {
     "iopub.execute_input": "2020-10-27T10:44:35.303870Z",
     "iopub.status.busy": "2020-10-27T10:44:35.302926Z",
     "iopub.status.idle": "2020-10-27T10:44:35.307630Z",
     "shell.execute_reply": "2020-10-27T10:44:35.307017Z"
    },
    "papermill": {
     "duration": 0.044456,
     "end_time": "2020-10-27T10:44:35.307738",
     "exception": false,
     "start_time": "2020-10-27T10:44:35.263282",
     "status": "completed"
    },
    "tags": []
   },
   "outputs": [],
   "source": [
    "test = DataLoader(dset, batch_size=config.batch_size, shuffle=False, num_workers=config.WORKERS)"
   ]
  },
  {
   "cell_type": "code",
   "execution_count": 15,
   "metadata": {
    "execution": {
     "iopub.execute_input": "2020-10-27T10:44:35.381880Z",
     "iopub.status.busy": "2020-10-27T10:44:35.380894Z",
     "iopub.status.idle": "2020-10-27T10:44:38.763463Z",
     "shell.execute_reply": "2020-10-27T10:44:38.762454Z"
    },
    "papermill": {
     "duration": 3.42121,
     "end_time": "2020-10-27T10:44:38.763588",
     "exception": false,
     "start_time": "2020-10-27T10:44:35.342378",
     "status": "completed"
    },
    "tags": []
   },
   "outputs": [],
   "source": [
    "x,n,x1 = dset[0]"
   ]
  },
  {
   "cell_type": "code",
   "execution_count": 16,
   "metadata": {
    "execution": {
     "iopub.execute_input": "2020-10-27T10:44:38.844878Z",
     "iopub.status.busy": "2020-10-27T10:44:38.843990Z",
     "iopub.status.idle": "2020-10-27T10:44:42.989221Z",
     "shell.execute_reply": "2020-10-27T10:44:42.989769Z"
    },
    "papermill": {
     "duration": 4.190866,
     "end_time": "2020-10-27T10:44:42.989908",
     "exception": false,
     "start_time": "2020-10-27T10:44:38.799042",
     "status": "completed"
    },
    "tags": []
   },
   "outputs": [
    {
     "name": "stdout",
     "output_type": "stream",
     "text": [
      "torch.Size([3, 160, 160, 160])\n"
     ]
    },
    {
     "data": {
      "image/png": "[encoded data removed]",
      "text/plain": [
       "<Figure size 864x360 with 3 Axes>"
      ]
     },
     "metadata": {
      "needs_background": "light"
     },
     "output_type": "display_data"
    }
   ],
   "source": [
    "from pylab import rcParams\n",
    "rcParams['figure.figsize'] = 12,5\n",
    "for i in range(1):\n",
    "    f, axarr = plt.subplots(1,3)\n",
    "    _,_,img = dset[i]\n",
    "    print(img.shape)\n",
    "    for j in range(3):            \n",
    "        axarr[j].imshow(img.numpy().transpose(1,2,3,0).mean(axis=j))        \n",
    "        axarr[j].set_title(i)\n",
    "    plt.show()"
   ]
  },
  {
   "cell_type": "code",
   "execution_count": 17,
   "metadata": {
    "execution": {
     "iopub.execute_input": "2020-10-27T10:44:43.076068Z",
     "iopub.status.busy": "2020-10-27T10:44:43.075080Z",
     "iopub.status.idle": "2020-10-27T10:44:46.273242Z",
     "shell.execute_reply": "2020-10-27T10:44:46.272042Z"
    },
    "papermill": {
     "duration": 3.243817,
     "end_time": "2020-10-27T10:44:46.273383",
     "exception": false,
     "start_time": "2020-10-27T10:44:43.029566",
     "status": "completed"
    },
    "tags": []
   },
   "outputs": [],
   "source": [
    "classes = list(pd.read_csv(\"../input/rsna-str-pulmonary-embolism-detection/train.csv\").columns[3:])"
   ]
  },
  {
   "cell_type": "code",
   "execution_count": 18,
   "metadata": {
    "execution": {
     "iopub.execute_input": "2020-10-27T10:44:46.359284Z",
     "iopub.status.busy": "2020-10-27T10:44:46.358399Z",
     "iopub.status.idle": "2020-10-27T10:44:46.509054Z",
     "shell.execute_reply": "2020-10-27T10:44:46.507771Z"
    },
    "papermill": {
     "duration": 0.196102,
     "end_time": "2020-10-27T10:44:46.509194",
     "exception": false,
     "start_time": "2020-10-27T10:44:46.313092",
     "status": "completed"
    },
    "tags": []
   },
   "outputs": [],
   "source": [
    "sub = pd.read_csv(\"../input/rsna-str-pulmonary-embolism-detection/sample_submission.csv\")\n",
    "sub.id = sub.id.astype(str)"
   ]
  },
  {
   "cell_type": "code",
   "execution_count": 19,
   "metadata": {
    "execution": {
     "iopub.execute_input": "2020-10-27T10:44:46.594718Z",
     "iopub.status.busy": "2020-10-27T10:44:46.593785Z",
     "iopub.status.idle": "2020-10-27T10:44:46.611002Z",
     "shell.execute_reply": "2020-10-27T10:44:46.610339Z"
    },
    "papermill": {
     "duration": 0.062081,
     "end_time": "2020-10-27T10:44:46.611111",
     "exception": false,
     "start_time": "2020-10-27T10:44:46.549030",
     "status": "completed"
    },
    "tags": []
   },
   "outputs": [],
   "source": [
    "do_all = len(os.listdir(\"../input/rsna-str-pulmonary-embolism-detection/test/\"))>700\n",
    "# do_all=True"
   ]
  },
  {
   "cell_type": "code",
   "execution_count": 20,
   "metadata": {
    "execution": {
     "iopub.execute_input": "2020-10-27T10:44:46.731566Z",
     "iopub.status.busy": "2020-10-27T10:44:46.710058Z",
     "iopub.status.idle": "2020-10-27T10:44:46.741499Z",
     "shell.execute_reply": "2020-10-27T10:44:46.740882Z"
    },
    "papermill": {
     "duration": 0.090502,
     "end_time": "2020-10-27T10:44:46.741659",
     "exception": false,
     "start_time": "2020-10-27T10:44:46.651157",
     "status": "completed"
    },
    "tags": []
   },
   "outputs": [],
   "source": [
    "from torch import nn\n",
    "from torch.nn import functional as F\n",
    "import torch\n",
    "\n",
    "sigmoid = nn.Sigmoid()\n",
    "\n",
    "\n",
    "\n",
    "class Swish(torch.autograd.Function):\n",
    "    @staticmethod\n",
    "    def forward(ctx, i):\n",
    "        result = i * sigmoid(i)\n",
    "        ctx.save_for_backward(i)\n",
    "        return result\n",
    "    @staticmethod\n",
    "    def backward(ctx, grad_output):\n",
    "        i = ctx.saved_variables[0]\n",
    "        sigmoid_i = sigmoid(i)\n",
    "        return grad_output * (sigmoid_i * (1 + i * (1 - sigmoid_i)))\n",
    "\n",
    "\n",
    "class Swish_Module(nn.Module):\n",
    "    def forward(self, x):\n",
    "        return Swish.apply(x)\n",
    "    \n",
    "class GaussianNoise(nn.Module):\n",
    "    def __init__(self, sigma=0.1, is_relative_detach=True):\n",
    "        super().__init__()\n",
    "        self.sigma = sigma\n",
    "        self.is_relative_detach = is_relative_detach\n",
    "        self.noise = torch.tensor(0).cuda().float()\n",
    "\n",
    "    def forward(self, x):\n",
    "        if self.training and self.sigma != 0:\n",
    "            scale = self.sigma * x.detach() if self.is_relative_detach else self.sigma * x\n",
    "            sampled_noise = self.noise.repeat(*x.size()).normal_() * scale\n",
    "            x = x + sampled_noise\n",
    "        return x \n",
    "\n",
    "class NeuralNet2(nn.Module):\n",
    "    def __init__(self, embed_size=5379, LSTM_UNITS=512, DO = 0.2,g=0.05):\n",
    "        super(NeuralNet2, self).__init__()\n",
    "        self.lstm1 = nn.LSTM(embed_size, LSTM_UNITS, bidirectional=True, batch_first=True,dropout=0.0)\n",
    "        self.lstm2 = nn.LSTM(LSTM_UNITS * 2, LSTM_UNITS, bidirectional=True, batch_first=True,dropout=0.0)\n",
    "        self.Noise = GaussianNoise(g)\n",
    "        self.linear1 = nn.Linear(LSTM_UNITS*2, LSTM_UNITS*2)\n",
    "        self.linear2 = nn.Linear(LSTM_UNITS*2, LSTM_UNITS*2)\n",
    "        self.avd3d = nn.AdaptiveAvgPool3d(1)\n",
    "        self.avd1d = nn.AdaptiveAvgPool1d(1)\n",
    "        \n",
    "        self.linear_rv = nn.Linear(LSTM_UNITS*2, LSTM_UNITS*2)\n",
    "        self.linear_rlc = nn.Linear(LSTM_UNITS*2, LSTM_UNITS*2)\n",
    "        self.linear_pe = nn.Linear(LSTM_UNITS*2, LSTM_UNITS*2)\n",
    "        \n",
    "        self.linear_pe = nn.Linear(LSTM_UNITS*2, 1)\n",
    "        self.linear_global_fc0 = nn.Linear(3073, 3) #ALL_PE,NEG,IND\n",
    "        self.linear_global_fc1 = nn.Linear(LSTM_UNITS*2*2, 3) #RV>1,RV<1,Not PE\n",
    "        self.linear_global_fc2 = nn.Linear(3073, 4) #Chronic, Chronic+Acute, Not PE,Acute\n",
    "        self.linear_global_fc3 = nn.Linear(LSTM_UNITS*2*2, 3) #right,left,center\n",
    "        self.dropuot3d = nn.Dropout3d(DO)\n",
    "        self.dropuot1d = nn.Dropout(DO)\n",
    "        self.s3d = Swish_Module()\n",
    "        self.s1d = Swish_Module()\n",
    "        self.s2d = Swish_Module()\n",
    "        \n",
    "        \n",
    "    def forward(self, x, x_rv,x_rlc,x_pe):\n",
    "        \n",
    "        x_rv = self.dropuot3d(x_rv)\n",
    "        x_rv = self.avd3d(x_rv).reshape(1,-1)\n",
    "        x_rv1 = self.s3d(self.linear_rv(x_rv))\n",
    "        x_rv = x_rv.reshape(1,-1)\n",
    "        x_rv1 = x_rv1.reshape(1,-1)\n",
    "        \n",
    "        \n",
    "        x_rlc = self.dropuot3d(x_rlc)\n",
    "        x_rlc = self.avd3d(x_rlc).reshape(1,-1)\n",
    "        x_rlc1 = self.s3d(self.linear_rlc(x_rlc))\n",
    "        x_rlc = x_rlc.reshape(1,-1)\n",
    "        x_rlc1 = x_rlc1.reshape(1,-1)\n",
    "        \n",
    "        \n",
    "        x_pe = self.dropuot3d(x_pe)\n",
    "        x_pe = self.avd3d(x_pe).reshape(1,-1)\n",
    "        x_pe1 = self.s3d(self.linear_pe(x_pe))\n",
    "        x_pe = x_pe.reshape(1,-1)\n",
    "        x_pe1 = x_pe1.reshape(1,-1)\n",
    "        \n",
    "        b,f = x.shape\n",
    "        embedding = x.reshape(1,b,f)\n",
    "        self.lstm1.flatten_parameters()\n",
    "        h_lstm1, _ = self.lstm1(embedding)\n",
    "        self.lstm2.flatten_parameters()\n",
    "        h_lstm2, _ = self.lstm2(h_lstm1)\n",
    "        \n",
    "        h_conc_linear1  = self.s1d(self.linear1(h_lstm1))\n",
    "        h_conc_linear2  = self.s2d(self.linear2(h_lstm2))\n",
    "        \n",
    "        hidden = h_lstm1 + h_lstm2 + h_conc_linear1 + h_conc_linear2\n",
    "        \n",
    "        output = self.linear_pe(hidden)\n",
    "        \n",
    "        hidden2 = self.avd1d(hidden.transpose(2,1))\n",
    "        hidden_rv = torch.cat([hidden2[:,:,0],x_rv+x_rv1],-1)\n",
    "        hidden_rlc = torch.cat([hidden2[:,:,0],x_rlc+x_rlc1],-1)\n",
    "        \n",
    "        hidden_global = torch.cat([hidden2[:,:,0],x_pe1,x_pe,x_rlc+x_rlc1],-1)\n",
    "\n",
    "        output_global0 = self.linear_global_fc0(hidden_global)\n",
    "    \n",
    "        output_global1 = self.linear_global_fc1(hidden_rv)\n",
    "        \n",
    "        output_global2 = self.linear_global_fc2(hidden_global)\n",
    "        \n",
    "        output_global3 = self.linear_global_fc3(hidden_rlc)\n",
    "        return output,output_global0,output_global1,output_global2,output_global3"
   ]
  },
  {
   "cell_type": "code",
   "execution_count": 21,
   "metadata": {
    "execution": {
     "iopub.execute_input": "2020-10-27T10:44:46.855676Z",
     "iopub.status.busy": "2020-10-27T10:44:46.845148Z",
     "iopub.status.idle": "2020-10-27T10:44:46.878299Z",
     "shell.execute_reply": "2020-10-27T10:44:46.877631Z"
    },
    "papermill": {
     "duration": 0.095456,
     "end_time": "2020-10-27T10:44:46.878415",
     "exception": false,
     "start_time": "2020-10-27T10:44:46.782959",
     "status": "completed"
    },
    "tags": []
   },
   "outputs": [],
   "source": [
    "from torch import nn\n",
    "from torch.nn import functional as F\n",
    "import torch\n",
    "\n",
    "sigmoid = nn.Sigmoid()\n",
    "\n",
    "\n",
    "\n",
    "class Swish(torch.autograd.Function):\n",
    "    @staticmethod\n",
    "    def forward(ctx, i):\n",
    "        result = i * sigmoid(i)\n",
    "        ctx.save_for_backward(i)\n",
    "        return result\n",
    "    @staticmethod\n",
    "    def backward(ctx, grad_output):\n",
    "        i = ctx.saved_variables[0]\n",
    "        sigmoid_i = sigmoid(i)\n",
    "        return grad_output * (sigmoid_i * (1 + i * (1 - sigmoid_i)))\n",
    "\n",
    "\n",
    "class Swish_Module(nn.Module):\n",
    "    def forward(self, x):\n",
    "        return Swish.apply(x)\n",
    "    \n",
    "class GaussianNoise(nn.Module):\n",
    "    def __init__(self, sigma=0.1, is_relative_detach=True):\n",
    "        super().__init__()\n",
    "        self.sigma = sigma\n",
    "        self.is_relative_detach = is_relative_detach\n",
    "        self.noise = torch.tensor(0).cuda().float()\n",
    "\n",
    "    def forward(self, x):\n",
    "        if self.training and self.sigma != 0:\n",
    "            scale = self.sigma * x.detach() if self.is_relative_detach else self.sigma * x\n",
    "            sampled_noise = self.noise.repeat(*x.size()).normal_() * scale\n",
    "            x = x + sampled_noise\n",
    "        return x \n",
    "\n",
    "class NeuralNet(nn.Module):\n",
    "    def __init__(self, embed_size=5379, LSTM_UNITS=512, DO = 0.3,g=0.05):\n",
    "        super(NeuralNet, self).__init__()\n",
    "        self.lstm1 = nn.LSTM(embed_size, LSTM_UNITS, bidirectional=True, batch_first=True,dropout=0.0)\n",
    "        self.lstm2 = nn.LSTM(LSTM_UNITS * 2, LSTM_UNITS, bidirectional=True, batch_first=True,dropout=0.0)\n",
    "        self.Noise = GaussianNoise(g)\n",
    "        self.linear1 = nn.Linear(LSTM_UNITS*2, LSTM_UNITS*2)\n",
    "        self.linear2 = nn.Linear(LSTM_UNITS*2, LSTM_UNITS*2)\n",
    "        self.avd3d = nn.AdaptiveAvgPool3d(1)\n",
    "        self.avd1d = nn.AdaptiveAvgPool1d(1)\n",
    "        \n",
    "        self.linear_rv = nn.Linear(LSTM_UNITS*2, LSTM_UNITS*2)\n",
    "        self.linear_rlc = nn.Linear(LSTM_UNITS*2, LSTM_UNITS*2)\n",
    "        \n",
    "        self.linear_pe = nn.Linear(LSTM_UNITS*2, 1)\n",
    "        self.linear_global_fc0 = nn.Linear(LSTM_UNITS*2*4, 3) #ALL_PE,NEG,IND\n",
    "        self.linear_global_fc1 = nn.Linear(LSTM_UNITS*2*2, 3) #RV>1,RV<1,Not PE\n",
    "        self.linear_global_fc2 = nn.Linear(LSTM_UNITS*2*4, 4) #Chronic, Chronic+Acute, Not PE,Acute\n",
    "        self.linear_global_fc3 = nn.Linear(LSTM_UNITS*2*2, 3) #right,left,center\n",
    "        self.dropuot3d = nn.Dropout3d(DO)\n",
    "        self.dropuot1d = nn.Dropout(DO)\n",
    "        self.s3d = Swish_Module()\n",
    "        self.s1d = Swish_Module()\n",
    "        self.s2d = Swish_Module()\n",
    "        \n",
    "        \n",
    "    def forward(self, x, x_rv,x_rlc):\n",
    "        \n",
    "        x_rv = self.dropuot3d(x_rv)\n",
    "        x_rv = self.Noise(self.avd3d(x_rv).reshape(1,-1))\n",
    "        x_rv1 = self.s3d(self.linear_rv(x_rv))\n",
    "        x_rv = x_rv.reshape(1,-1)\n",
    "        x_rv1 = x_rv1.reshape(1,-1)\n",
    "        \n",
    "        \n",
    "        x_rlc = self.dropuot3d(x_rlc)\n",
    "        x_rlc = self.Noise(self.avd3d(x_rlc).reshape(1,-1))\n",
    "        x_rlc1 = self.s3d(self.linear_rlc(x_rlc))\n",
    "        x_rlc = x_rlc.reshape(1,-1)\n",
    "        x_rlc1 = x_rlc1.reshape(1,-1)\n",
    "        \n",
    "        b,f = x.shape\n",
    "        embedding = x.reshape(1,b,f)\n",
    "        self.lstm1.flatten_parameters()\n",
    "        h_lstm1, _ = self.lstm1(embedding)\n",
    "        self.lstm2.flatten_parameters()\n",
    "        h_lstm2, _ = self.lstm2(h_lstm1)\n",
    "        \n",
    "        h_conc_linear1  = self.s1d(self.linear1(h_lstm1))\n",
    "        h_conc_linear2  = self.s2d(self.linear2(h_lstm2))\n",
    "        \n",
    "        hidden = h_lstm1 + h_lstm2 + h_conc_linear1 + h_conc_linear2\n",
    "        \n",
    "        output = self.linear_pe(hidden)\n",
    "        \n",
    "        hidden2 = self.avd1d(hidden.transpose(2,1))\n",
    "        hidden_rv = torch.cat([hidden2[:,:,0],x_rv+x_rv1],-1)\n",
    "        hidden_rlc = torch.cat([hidden2[:,:,0],x_rlc+x_rlc1],-1)\n",
    "        \n",
    "        hidden_global = torch.cat([hidden_rv,hidden_rlc],-1)\n",
    "        \n",
    "        output_global0 = self.linear_global_fc0(hidden_global)\n",
    "    \n",
    "        output_global1 = self.linear_global_fc1(hidden_rv)\n",
    "        \n",
    "        output_global2 = self.linear_global_fc2(hidden_global)\n",
    "        \n",
    "        output_global3 = self.linear_global_fc3(hidden_rlc)\n",
    "        return output,output_global0,output_global1,output_global2,output_global3"
   ]
  },
  {
   "cell_type": "code",
   "execution_count": 22,
   "metadata": {
    "execution": {
     "iopub.execute_input": "2020-10-27T10:44:46.968279Z",
     "iopub.status.busy": "2020-10-27T10:44:46.966361Z",
     "iopub.status.idle": "2020-10-27T10:44:46.971640Z",
     "shell.execute_reply": "2020-10-27T10:44:46.972194Z"
    },
    "papermill": {
     "duration": 0.053022,
     "end_time": "2020-10-27T10:44:46.972357",
     "exception": false,
     "start_time": "2020-10-27T10:44:46.919335",
     "status": "completed"
    },
    "tags": []
   },
   "outputs": [
    {
     "data": {
      "text/plain": [
       "['lstm1_lstm_9_best.pth',\n",
       " 'lstm1_lstm_0_best.pth',\n",
       " 'lstm1_lstm_6_best.pth',\n",
       " 'lstm1_lstm_2_best.pth',\n",
       " 'lstm1_lstm_3_best.pth',\n",
       " 'lstm1_lstm_5_best.pth',\n",
       " 'lstm1_lstm_7_best.pth',\n",
       " 'lstm1_lstm_1_best.pth',\n",
       " 'lstm1_lstm_8_best.pth',\n",
       " 'lstm1_lstm_4_best.pth']"
      ]
     },
     "execution_count": 22,
     "metadata": {},
     "output_type": "execute_result"
    }
   ],
   "source": [
    "os.listdir(\"../input/lstmrsnacpt/\")"
   ]
  },
  {
   "cell_type": "code",
   "execution_count": 23,
   "metadata": {
    "execution": {
     "iopub.execute_input": "2020-10-27T10:44:47.064070Z",
     "iopub.status.busy": "2020-10-27T10:44:47.063147Z",
     "iopub.status.idle": "2020-10-27T10:44:48.644105Z",
     "shell.execute_reply": "2020-10-27T10:44:48.643530Z"
    },
    "papermill": {
     "duration": 1.630369,
     "end_time": "2020-10-27T10:44:48.644269",
     "exception": false,
     "start_time": "2020-10-27T10:44:47.013900",
     "status": "completed"
    },
    "tags": []
   },
   "outputs": [
    {
     "name": "stdout",
     "output_type": "stream",
     "text": [
      "1\n"
     ]
    }
   ],
   "source": [
    "models =[]\n",
    "# for file in os.listdir(\"../input/lstmrsnacpt/\"):\n",
    "# for file in [\"../input/rsnalstm3d/lstm_pe_neg_best.pth\",\"../input/lstem-fold20/lstm_pe_neg_best_fold0.pth\",\"../input/lstem-fold20/lstm_pe_negfold 2_best.pth\"]:\n",
    "for file in [\"../input/rsnape3d/liniar_pe_neg_fold_0_fold_0_best.pth\"]:\n",
    "    model = NeuralNet2().cuda()\n",
    "    model.load_state_dict(torch.load(file))\n",
    "    model.eval()\n",
    "    models.append(model)\n",
    "print(len(models))"
   ]
  },
  {
   "cell_type": "code",
   "execution_count": 24,
   "metadata": {
    "execution": {
     "iopub.execute_input": "2020-10-27T10:44:48.738040Z",
     "iopub.status.busy": "2020-10-27T10:44:48.737048Z",
     "iopub.status.idle": "2020-10-27T10:44:49.699846Z",
     "shell.execute_reply": "2020-10-27T10:44:49.700598Z"
    },
    "papermill": {
     "duration": 1.013686,
     "end_time": "2020-10-27T10:44:49.700815",
     "exception": false,
     "start_time": "2020-10-27T10:44:48.687129",
     "status": "completed"
    },
    "tags": []
   },
   "outputs": [
    {
     "name": "stdout",
     "output_type": "stream",
     "text": [
      "1\n"
     ]
    }
   ],
   "source": [
    "models_old =[]\n",
    "# for file in os.listdir(\"../input/lstmrsnacpt/\"):\n",
    "# for file in [\"../input/rsnalstm3d/lstm_pe_neg_best.pth\",\"../input/lstem-fold20/lstm_pe_neg_best_fold0.pth\",\"../input/lstem-fold20/lstm_pe_negfold 2_best.pth\"]:\n",
    "for file in [\"../input/pth-lstm-543/best0.pth\"]:\n",
    "    model = NeuralNet().cuda()\n",
    "    model.load_state_dict(torch.load(file))\n",
    "    model.eval()\n",
    "    models_old.append(model)\n",
    "print(len(models_old))"
   ]
  },
  {
   "cell_type": "code",
   "execution_count": 25,
   "metadata": {
    "execution": {
     "iopub.execute_input": "2020-10-27T10:44:49.796005Z",
     "iopub.status.busy": "2020-10-27T10:44:49.794708Z",
     "iopub.status.idle": "2020-10-27T10:44:49.796772Z",
     "shell.execute_reply": "2020-10-27T10:44:49.797307Z"
    },
    "papermill": {
     "duration": 0.05298,
     "end_time": "2020-10-27T10:44:49.797443",
     "exception": false,
     "start_time": "2020-10-27T10:44:49.744463",
     "status": "completed"
    },
    "tags": []
   },
   "outputs": [],
   "source": [
    "image_classes = '{}_pe_present_on_image'\n",
    "global_class = ['{}_negative_exam_for_pe', '{}_rv_lv_ratio_gte_1', '{}_rv_lv_ratio_lt_1',\n",
    "       '{}_leftsided_pe', '{}_chronic_pe','{}_rightsided_pe', '{}_acute_and_chronic_pe', '{}_central_pe', '{}_indeterminate']\n",
    "\n",
    "target_cols3d = [\n",
    "        'negative_exam_for_pe', # exam level\n",
    "        'rv_lv_ratio_gte_1', # exam level\n",
    "        'rv_lv_ratio_lt_1', # exam level\n",
    "        'leftsided_pe', # exam level\n",
    "        'chronic_pe', # exam level\n",
    "        'rightsided_pe', # exam level\n",
    "        'acute_and_chronic_pe', # exam level\n",
    "        'central_pe', # exam level\n",
    "        'indeterminate' # exam level\n",
    "    ]"
   ]
  },
  {
   "cell_type": "code",
   "execution_count": 26,
   "metadata": {
    "execution": {
     "iopub.execute_input": "2020-10-27T10:44:49.897527Z",
     "iopub.status.busy": "2020-10-27T10:44:49.896519Z",
     "iopub.status.idle": "2020-10-27T10:44:49.900139Z",
     "shell.execute_reply": "2020-10-27T10:44:49.899553Z"
    },
    "papermill": {
     "duration": 0.059091,
     "end_time": "2020-10-27T10:44:49.900274",
     "exception": false,
     "start_time": "2020-10-27T10:44:49.841183",
     "status": "completed"
    },
    "tags": []
   },
   "outputs": [],
   "source": [
    "def lstm_results(y,y1,y2):\n",
    "    predicted0,predicted1,predicted2,predicted3,predicted4 = 0,0,0,0,0\n",
    "    for i,model in enumerate(models):\n",
    "        predicted = model(y,y1,y2)\n",
    "        if i>0:\n",
    "            predicted0_,predicted1_,predicted2_,predicted3_,predicted4_ = predicted[0],predicted[1],predicted[2],predicted[3],predicted[4]\n",
    "            predicted0+=predicted0_\n",
    "            predicted1+=predicted1_\n",
    "            predicted2+=predicted2_\n",
    "            predicted3+=predicted3_\n",
    "            predicted4+=predicted4_\n",
    "        else:\n",
    "            predicted0,predicted1,predicted2,predicted3,predicted4 = predicted[0],predicted[1],predicted[2],predicted[3],predicted[4]\n",
    "    return [predicted0/len(models),predicted1/len(models),predicted2/len(models),predicted3/len(models),predicted4/len(models)]"
   ]
  },
  {
   "cell_type": "code",
   "execution_count": 27,
   "metadata": {
    "execution": {
     "iopub.execute_input": "2020-10-27T10:44:49.994181Z",
     "iopub.status.busy": "2020-10-27T10:44:49.993077Z",
     "iopub.status.idle": "2020-10-27T10:44:50.771417Z",
     "shell.execute_reply": "2020-10-27T10:44:50.770797Z"
    },
    "papermill": {
     "duration": 0.828014,
     "end_time": "2020-10-27T10:44:50.771549",
     "exception": false,
     "start_time": "2020-10-27T10:44:49.943535",
     "status": "completed"
    },
    "tags": []
   },
   "outputs": [
    {
     "name": "stdout",
     "output_type": "stream",
     "text": [
      "densenet121_best_fold0.pth\tdensenet121_rlc_model_fold0.pth\r\n",
      "densenet121_best_fold1.pth\tdensenet121_rlc_model_fold1.pth\r\n",
      "densenet121_best_fold2.pth\tdensenet121_rlc_model_fold3.pth\r\n",
      "densenet121_best_fold3.pth\tdensenet121_rlc_model_fold4.pth\r\n",
      "densenet121_best_fold4.pth\tlstm_pe_neg_best.pth\r\n",
      "densenet121_rlc_best_fold2.pth\r\n"
     ]
    }
   ],
   "source": [
    "!ls ../input/lstm3d/"
   ]
  },
  {
   "cell_type": "code",
   "execution_count": 28,
   "metadata": {
    "execution": {
     "iopub.execute_input": "2020-10-27T10:44:50.867639Z",
     "iopub.status.busy": "2020-10-27T10:44:50.866753Z",
     "iopub.status.idle": "2020-10-27T10:44:50.871633Z",
     "shell.execute_reply": "2020-10-27T10:44:50.871009Z"
    },
    "papermill": {
     "duration": 0.055761,
     "end_time": "2020-10-27T10:44:50.871744",
     "exception": false,
     "start_time": "2020-10-27T10:44:50.815983",
     "status": "completed"
    },
    "tags": []
   },
   "outputs": [],
   "source": [
    "model_files_rlc = ['../input/lstm3d/densenet121_rlc_best_fold2.pth','../input/lstm3d/densenet121_rlc_model_fold3.pth','../input/lstm3d/densenet121_rlc_model_fold4.pth']\n",
    "model_fils_rv = [f'../input/lstm3d/densenet121_best_fold2.pth',f'../input/lstm3d/densenet121_best_fold1.pth',f'../input/lstm3d/densenet121_best_fold3.pth']\n",
    "model_fils_pe = [f'../input/rsnape3d/densenet121_pe_best_fold3.pth',f'../input/rsnape3d/densenet121_pe_best_fold1.pth',f'../input/rsnape3d/densenet121_pe_best_fold4.pth']"
   ]
  },
  {
   "cell_type": "code",
   "execution_count": 29,
   "metadata": {
    "execution": {
     "iopub.execute_input": "2020-10-27T10:44:50.974329Z",
     "iopub.status.busy": "2020-10-27T10:44:50.973247Z",
     "iopub.status.idle": "2020-10-27T10:44:59.753025Z",
     "shell.execute_reply": "2020-10-27T10:44:59.753626Z"
    },
    "papermill": {
     "duration": 8.837812,
     "end_time": "2020-10-27T10:44:59.753790",
     "exception": false,
     "start_time": "2020-10-27T10:44:50.915978",
     "status": "completed"
    },
    "tags": []
   },
   "outputs": [
    {
     "name": "stdout",
     "output_type": "stream",
     "text": [
      "../input/lstm3d/densenet121_rlc_best_fold2.pth\n",
      "../input/lstm3d/densenet121_rlc_model_fold3.pth\n",
      "../input/lstm3d/densenet121_rlc_model_fold4.pth\n",
      "../input/lstm3d/densenet121_best_fold2.pth\n",
      "../input/lstm3d/densenet121_best_fold1.pth\n",
      "../input/lstm3d/densenet121_best_fold3.pth\n",
      "../input/rsnape3d/densenet121_pe_best_fold3.pth\n",
      "../input/rsnape3d/densenet121_pe_best_fold1.pth\n",
      "../input/rsnape3d/densenet121_pe_best_fold4.pth\n"
     ]
    },
    {
     "data": {
      "text/plain": [
       "(3, 3)"
      ]
     },
     "execution_count": 29,
     "metadata": {},
     "output_type": "execute_result"
    }
   ],
   "source": [
    "def load_model(model_file,c=1):\n",
    "    print(model_file)\n",
    "    model = monai.networks.nets.densenet.densenet121(spatial_dims=3, in_channels=3, out_channels=c).cuda()\n",
    "\n",
    "    try:  # single GPU model_file\n",
    "        model.load_state_dict(torch.load(model_file), strict=True)\n",
    "    except:  # multi GPU model_file\n",
    "        state_dict = torch.load(model_file)\n",
    "        state_dict = {k[7:] if k.startswith('module.') else k: state_dict[k] for k in state_dict.keys()}\n",
    "        model.load_state_dict(state_dict, strict=True)\n",
    "\n",
    "    model.eval()    \n",
    "    return model\n",
    "\n",
    "models_3d_rlc = [load_model(model3d,3) for i,model3d in enumerate(model_files_rlc)]\n",
    "models_3d_rv = [load_model(model3d,1) for i,model3d in enumerate(model_fils_rv)]\n",
    "models_3d_pe = [load_model(model3d,1) for i,model3d in enumerate(model_fils_pe)]\n",
    "len(models_3d_rv),len(models_3d_rlc)"
   ]
  },
  {
   "cell_type": "code",
   "execution_count": 30,
   "metadata": {
    "execution": {
     "iopub.execute_input": "2020-10-27T10:44:59.865857Z",
     "iopub.status.busy": "2020-10-27T10:44:59.863942Z",
     "iopub.status.idle": "2020-10-27T10:44:59.866604Z",
     "shell.execute_reply": "2020-10-27T10:44:59.867123Z"
    },
    "papermill": {
     "duration": 0.064876,
     "end_time": "2020-10-27T10:44:59.867311",
     "exception": false,
     "start_time": "2020-10-27T10:44:59.802435",
     "status": "completed"
    },
    "tags": []
   },
   "outputs": [],
   "source": [
    "do_all=True"
   ]
  },
  {
   "cell_type": "code",
   "execution_count": 31,
   "metadata": {
    "execution": {
     "iopub.execute_input": "2020-10-27T10:45:00.011337Z",
     "iopub.status.busy": "2020-10-27T10:44:59.980090Z",
     "iopub.status.idle": "2020-10-27T12:46:56.278356Z",
     "shell.execute_reply": "2020-10-27T12:46:56.277254Z"
    },
    "papermill": {
     "duration": 7316.362353,
     "end_time": "2020-10-27T12:46:56.278515",
     "exception": false,
     "start_time": "2020-10-27T10:44:59.916162",
     "status": "completed"
    },
    "tags": []
   },
   "outputs": [
    {
     "name": "stderr",
     "output_type": "stream",
     "text": [
      "100%|██████████| 650/650 [2:01:54<00:00, 11.25s/it]\n"
     ]
    },
    {
     "name": "stdout",
     "output_type": "stream",
     "text": [
      "id       0\n",
      "label    0\n",
      "dtype: int64\n"
     ]
    }
   ],
   "source": [
    "if do_all:\n",
    "    model.eval()\n",
    "    pred_df = []\n",
    "    for imgs_batchs,names,imgs_batchs_3d in tqdm(test):\n",
    "        if True:\n",
    "            imgs_batch = imgs_batchs[0].cuda().float()\n",
    "            imgs_batchs_3d = imgs_batchs_3d.cuda().float()\n",
    "            with torch.no_grad():\n",
    "                logits_rv = models_3d_rv[0].features(imgs_batchs_3d)/3.0 +models_3d_rv[1].features(imgs_batchs_3d)/3.0 + models_3d_rv[2].features(imgs_batchs_3d)/3.0\n",
    "                logits_rlc = models_3d_rlc[0].features(imgs_batchs_3d)/3.0 +models_3d_rlc[1].features(imgs_batchs_3d)/3.0 + models_3d_rlc[2].features(imgs_batchs_3d)/3.0\n",
    "                logits_pe = models_3d_pe[0].features(imgs_batchs_3d)/3.0 +models_3d_pe[1].features(imgs_batchs_3d)/3.0 + models_3d_pe[2].features(imgs_batchs_3d)/3.0\n",
    "#                 prob_rv = torch.softmax(models_3d_rv[0].class_layers(logits_rv),-1)\n",
    "#                 prob_rv = torch.softmax(models_3d_rlc[0].class_layers(logits_rlc),-1)\n",
    "                y = torch.zeros([len(cnnb5),len(imgs_batch),2048+1+1792+1+1536+1]).float().cuda()\n",
    "                predicteds = []\n",
    "                global_predicteds = []\n",
    "                for fold in range(len(cnnb5)):\n",
    "                    for row in range(0,len(imgs_batch),100):\n",
    "                        fet = cnnb5[fold].module.extract_features(imgs_batch[row:row+100].cuda().float())\n",
    "                        y[fold][row:row+100,:2048] = torch.nn.AdaptiveAvgPool2d(1)(fet)[:,:,0,0]\n",
    "                        y[fold][row:row+100,2048:2049] = cnnb5[fold].module._fc(cnnb5[fold].module._avg_pooling(fet).flatten(start_dim=1))\n",
    "#                         print((cnnb5[fold].module._fc(cnnb5[fold].module._avg_pooling(fet).flatten(start_dim=1))==cnnb5[fold](imgs_batch[row:row+100].cuda().float())).all())\n",
    "\n",
    "                        fet4 = cnnb4[fold].module.extract_features(imgs_batch[row:row+100].cuda().float())\n",
    "                        y[fold][row:row+100,2049:2049+1792] = torch.nn.AdaptiveAvgPool2d(1)(fet4)[:,:,0,0]\n",
    "                        y[fold][row:row+100,1792+2048:1792+2048+1] = cnnb4[fold].module._fc(cnnb4[fold].module._avg_pooling(fet4).flatten(start_dim=1))\n",
    "            \n",
    "                        fet3 = cnnb3[fold].module.extract_features(imgs_batch[row:row+100].cuda().float())\n",
    "                        y[fold][row:row+100,2049+1793:2049+1793+1536] = torch.nn.AdaptiveAvgPool2d(1)(fet3)[:,:,0,0]\n",
    "                        y[fold][row:row+100,2049+1793+1536:2049+1793+1536+1] = cnnb3[fold].module._fc(cnnb3[fold].module._avg_pooling(fet3).flatten(start_dim=1))\n",
    "                \n",
    "#                 predictedOld = model(y.mean(0).cuda().float())    \n",
    "                predicted = models[0](y.mean(0).cuda().float(),logits_rv.cuda().float(),logits_rlc.cuda().float(),logits_pe.cuda().float())\n",
    "                predicted_old = models_old[0](y.mean(0).cuda().float(),logits_rv.cuda().float(),logits_rlc.cuda().float())\n",
    "#                 predicted = lstm_results(y.mean(0).cuda().float(),logits_rv.cuda().float(),logits_rlc.cuda().float(),logits_pe.cuda().float())\n",
    "                predicted0 = 0.6*torch.sigmoid(predicted_old[0]).cpu().numpy().reshape(-1) + 0.4*torch.sigmoid(predicted[0]).cpu().numpy().reshape(-1)\n",
    "                PE_NEG_IND = 0.6*torch.softmax(predicted_old[1],dim=1).cpu().numpy().reshape(-1) +0.4*torch.softmax(predicted[1],dim=1).cpu().numpy().reshape(-1)\n",
    "                RV_RV1_NEG = 0.6*torch.softmax(predicted_old[2],dim=1).cpu().numpy().reshape(-1) + 0.4*torch.softmax(predicted[2],dim=1).cpu().numpy().reshape(-1)\n",
    "                RLC = 0.6*torch.sigmoid(predicted_old[4]).cpu().numpy().reshape(-1) + 0.4*torch.sigmoid(predicted[4]).cpu().numpy().reshape(-1)\n",
    "                CH_CHAC_NEG_AC = 0.6*torch.softmax(predicted_old[3],dim=1).cpu().numpy().reshape(-1) + 0.4*torch.softmax(predicted[3],dim=1).cpu().numpy().reshape(-1)\n",
    "                if predicted0.max()<=0.5 and PE_NEG_IND[0]<0.5:\n",
    "                    rule = 'neg'\n",
    "                elif PE_NEG_IND[1]>0.85:\n",
    "                    rule = 'neg'\n",
    "                elif PE_NEG_IND[1]>0.7 and predicted0.max()<0.85:\n",
    "                    rule = 'neg'\n",
    "                elif PE_NEG_IND[1]>0.6 and predicted0.max()<0.75:\n",
    "                    rule = 'neg'\n",
    "                elif PE_NEG_IND[1]>0.5 and predicted0.max()<0.6:\n",
    "                    rule = 'neg'\n",
    "                else:\n",
    "                    rule = 'pos'\n",
    "                if rule == 'neg':\n",
    "                    predicted0[predicted0>0.49999]=min(np.mean(predicted0),0.49999)\n",
    "                    if PE_NEG_IND[1] > PE_NEG_IND[2]:\n",
    "                        PE_NEG_IND[1] = max(PE_NEG_IND[1],0.50001)\n",
    "                        PE_NEG_IND[2] = min(PE_NEG_IND[2],0.49999)\n",
    "                    else:\n",
    "                        PE_NEG_IND[2] = max(PE_NEG_IND[2],0.50001)\n",
    "                        PE_NEG_IND[1] = min(PE_NEG_IND[1],0.49999)\n",
    "                        \n",
    "                    RLC[0] = min(RLC[0],0.4999)\n",
    "                    RLC[1] = min(RLC[1],0.4999)\n",
    "                    RLC[2] = min(RLC[2],0.4999)\n",
    "                    \n",
    "                    RV_RV1_NEG[0] = min(RV_RV1_NEG[0],0.4999)\n",
    "                    RV_RV1_NEG[1] = min(RV_RV1_NEG[1],0.4999)\n",
    "                    \n",
    "                    CH_CHAC_NEG_AC[0] = min(CH_CHAC_NEG_AC[0],0.4999)\n",
    "                    CH_CHAC_NEG_AC[1] = min(CH_CHAC_NEG_AC[1],0.4999)\n",
    "                    \n",
    "                elif rule == 'pos':\n",
    "                    if RV_RV1_NEG[0]>RV_RV1_NEG[1]:\n",
    "                        RV_RV1_NEG[0] = max(RV_RV1_NEG[0],0.50001)\n",
    "                        RV_RV1_NEG[1] = min(RV_RV1_NEG[1],0.49999)\n",
    "                    else:\n",
    "                        RV_RV1_NEG[1] = max(RV_RV1_NEG[1],0.50001)\n",
    "                        RV_RV1_NEG[0] = min(RV_RV1_NEG[0],0.49999)\n",
    "                    \n",
    "                    if RLC.max()<=0.5:\n",
    "                        RLC[RLC.argmax()] = 0.50001\n",
    "                        \n",
    "                    if CH_CHAC_NEG_AC[0] >0.5 and  CH_CHAC_NEG_AC[1]>0.5:\n",
    "                        if CH_CHAC_NEG_AC[0]>CH_CHAC_NEG_AC[1]:\n",
    "                            CH_CHAC_NEG_AC[1]= 0.49999\n",
    "                        else:\n",
    "                            CH_CHAC_NEG_AC[0]=0.49999\n",
    "                            \n",
    "                    if predicted0.max()<=0.5:\n",
    "                        predicted0[predicted0.argmax()] = 0.50001\n",
    "                    \n",
    "                    PE_NEG_IND[1] = min(PE_NEG_IND[1],0.499999)\n",
    "                    PE_NEG_IND[2] = min(PE_NEG_IND[2],0.499999)\n",
    "                        \n",
    "                    \n",
    "\n",
    "#                 if (PE_NEG_IND[0]<0.5 or PE_NEG_IND[1]>0.5) and predicted0.max()>0.49999999:\n",
    "#                     predicted0[predicted0>0.49999]=min(np.mean(predicted0),0.49999)\n",
    "                PE_NEG_IND = PE_NEG_IND.tolist()\n",
    "                RV_RV1_NEG = RV_RV1_NEG.tolist()\n",
    "                RLC = RLC.tolist()\n",
    "                CH_CHAC_NEG_AC = CH_CHAC_NEG_AC.tolist()\n",
    "                predicteds.append(predicted0)\n",
    "                pred_global = [PE_NEG_IND[1]] + [RV_RV1_NEG[0]] + [RV_RV1_NEG[1]] + [RLC[1]] + [CH_CHAC_NEG_AC[0]]+ [RLC[0]]+ [CH_CHAC_NEG_AC[1]]+ [RLC[2]] + [PE_NEG_IND[2]]\n",
    "                pred_global = np.array(pred_global)\n",
    "                global_predicteds.append(pred_global)\n",
    "                        \n",
    "                pred_global = np.array(global_predicteds).mean(0) \n",
    "                predicted0 = np.array(predicteds).mean(0)\n",
    "                \n",
    "                blobal_name = [str(c.format(names[0][0][0])) for c in global_class]\n",
    "                df_global = pd.DataFrame(pred_global,blobal_name).reset_index()\n",
    "                df_global.columns = ['id','pred']\n",
    "#                 print(df_global)\n",
    "                df_per_image = []\n",
    "                for ids in range(len(predicted0)):\n",
    "                    pred = predicted0[ids]\n",
    "                    name = names[ids][2][0]\n",
    "                    df_per_image.append([name,pred])\n",
    "                df_per_image = pd.DataFrame(df_per_image)\n",
    "                df_per_image.columns = ['id','pred']\n",
    "#                 print(df_per_image.pred.max())\n",
    "                df = pd.concat([df_per_image,df_global])\n",
    "                pred_df.append(df)\n",
    "    pred_sub = pd.concat(pred_df).groupby(\"id\").max().reset_index()\n",
    "    sub = sub.merge(pred_sub,on='id',how='left')\n",
    "    sub = sub[['id','pred']]\n",
    "    sub.columns = ['id','label']\n",
    "    print(sub.isna().sum())\n",
    "    sub.fillna(0.5)\n",
    "    sub.to_csv(\"submission.csv\",index=False)\n",
    "else:\n",
    "    sub.to_csv(\"submission.csv\",index=False)"
   ]
  },
  {
   "cell_type": "code",
   "execution_count": 32,
   "metadata": {
    "execution": {
     "iopub.execute_input": "2020-10-27T12:46:56.919660Z",
     "iopub.status.busy": "2020-10-27T12:46:56.918575Z",
     "iopub.status.idle": "2020-10-27T12:46:57.101829Z",
     "shell.execute_reply": "2020-10-27T12:46:57.100681Z"
    },
    "papermill": {
     "duration": 0.517578,
     "end_time": "2020-10-27T12:46:57.101977",
     "exception": false,
     "start_time": "2020-10-27T12:46:56.584399",
     "status": "completed"
    },
    "tags": []
   },
   "outputs": [],
   "source": [
    "test  = pd.read_csv('../input/rsna-str-pulmonary-embolism-detection/test.csv')\n",
    "def check_consistency(sub, test):\n",
    "    \n",
    "    '''\n",
    "    Checks label consistency and returns the errors\n",
    "    \n",
    "    Args:\n",
    "    sub   = submission dataframe (pandas)\n",
    "    test  = test.csv dataframe (pandas)\n",
    "    '''\n",
    "    \n",
    "    # EXAM LEVEL\n",
    "    for i in test['StudyInstanceUID'].unique():\n",
    "        df_tmp = sub.loc[sub.id.str.contains(i, regex = False)].reset_index(drop = True)\n",
    "        df_tmp['StudyInstanceUID'] = df_tmp['id'].str.split('_').str[0]\n",
    "        df_tmp['label_type']       = df_tmp['id'].str.split('_').str[1:].apply(lambda x: '_'.join(x))\n",
    "        del df_tmp['id']\n",
    "        if i == test['StudyInstanceUID'].unique()[0]:\n",
    "            df = df_tmp.copy()\n",
    "        else:\n",
    "            df = pd.concat([df, df_tmp], axis = 0)\n",
    "    df_exam = df.pivot(index = 'StudyInstanceUID', columns = 'label_type', values = 'label')\n",
    "    \n",
    "    # IMAGE LEVEL\n",
    "    df_image = sub.loc[sub.id.isin(test.SOPInstanceUID)].reset_index(drop = True)\n",
    "    df_image = df_image.merge(test, how = 'left', left_on = 'id', right_on = 'SOPInstanceUID')\n",
    "    df_image.rename(columns = {\"label\": \"pe_present_on_image\"}, inplace = True)\n",
    "    del df_image['id']\n",
    "    \n",
    "    # MERGER\n",
    "    df = df_exam.merge(df_image, how = 'left', on = 'StudyInstanceUID')\n",
    "    ids    = ['StudyInstanceUID', 'SeriesInstanceUID', 'SOPInstanceUID']\n",
    "    labels = [c for c in df.columns if c not in ids]\n",
    "    df = df[ids + labels]\n",
    "    \n",
    "    # SPLIT NEGATIVE AND POSITIVE EXAMS\n",
    "    df['positive_images_in_exam'] = df['StudyInstanceUID'].map(df.groupby(['StudyInstanceUID']).pe_present_on_image.max())\n",
    "    df_pos = df.loc[df.positive_images_in_exam >  0.5]\n",
    "    df_neg = df.loc[df.positive_images_in_exam <= 0.5]\n",
    "    \n",
    "    # CHECKING CONSISTENCY OF POSITIVE EXAM LABELS\n",
    "    rule1a = df_pos.loc[((df_pos.rv_lv_ratio_lt_1  >  0.5)  & \n",
    "                         (df_pos.rv_lv_ratio_gte_1 >  0.5)) | \n",
    "                        ((df_pos.rv_lv_ratio_lt_1  <= 0.5)  & \n",
    "                         (df_pos.rv_lv_ratio_gte_1 <= 0.5))].reset_index(drop = True)\n",
    "    rule1a['broken_rule'] = '1a'\n",
    "    rule1b = df_pos.loc[(df_pos.central_pe    <= 0.5) & \n",
    "                        (df_pos.rightsided_pe <= 0.5) & \n",
    "                        (df_pos.leftsided_pe  <= 0.5)].reset_index(drop = True)\n",
    "    rule1b['broken_rule'] = '1b'\n",
    "    rule1c = df_pos.loc[(df_pos.acute_and_chronic_pe > 0.5) & \n",
    "                        (df_pos.chronic_pe           > 0.5)].reset_index(drop = True)\n",
    "    rule1c['broken_rule'] = '1c'\n",
    "\n",
    "    # CHECKING CONSISTENCY OF NEGATIVE EXAM LABELS\n",
    "    rule2a = df_neg.loc[((df_neg.indeterminate        >  0.5)  & \n",
    "                         (df_neg.negative_exam_for_pe >  0.5)) | \n",
    "                        ((df_neg.indeterminate        <= 0.5)  & \n",
    "                         (df_neg.negative_exam_for_pe <= 0.5))].reset_index(drop = True)\n",
    "    rule2a['broken_rule'] = '2a'\n",
    "    rule2b = df_neg.loc[(df_neg.rv_lv_ratio_lt_1     > 0.5) | \n",
    "                        (df_neg.rv_lv_ratio_gte_1    > 0.5) |\n",
    "                        (df_neg.central_pe           > 0.5) | \n",
    "                        (df_neg.rightsided_pe        > 0.5) | \n",
    "                        (df_neg.leftsided_pe         > 0.5) |\n",
    "                        (df_neg.acute_and_chronic_pe > 0.5) | \n",
    "                        (df_neg.chronic_pe           > 0.5)].reset_index(drop = True)\n",
    "    rule2b['broken_rule'] = '2b'\n",
    "    \n",
    "    # MERGING INCONSISTENT PREDICTIONS\n",
    "    errors = pd.concat([rule1a, rule1b, rule1c, rule2a, rule2b], axis = 0)\n",
    "    \n",
    "    # OUTPUT\n",
    "    print('Found', len(errors), 'inconsistent predictions')\n",
    "    return errors"
   ]
  },
  {
   "cell_type": "code",
   "execution_count": 33,
   "metadata": {
    "execution": {
     "iopub.execute_input": "2020-10-27T12:46:57.736664Z",
     "iopub.status.busy": "2020-10-27T12:46:57.735643Z",
     "iopub.status.idle": "2020-10-27T12:47:55.903149Z",
     "shell.execute_reply": "2020-10-27T12:47:55.903830Z"
    },
    "papermill": {
     "duration": 58.492461,
     "end_time": "2020-10-27T12:47:55.903997",
     "exception": false,
     "start_time": "2020-10-27T12:46:57.411536",
     "status": "completed"
    },
    "tags": []
   },
   "outputs": [
    {
     "name": "stdout",
     "output_type": "stream",
     "text": [
      "Found 0 inconsistent predictions\n"
     ]
    }
   ],
   "source": [
    "e = check_consistency(sub, test)\n",
    "if len(e)>0:\n",
    "    print(e)\n",
    "    sub = pd.read_csv(\"../input/rsna-str-pulmonary-embolism-detection/sample_submission.csv\")\n",
    "    sub.to_csv(\"submission.csv\",index=False)\n",
    "    sub.head()"
   ]
  }
 ],
 "metadata": {
  "kernelspec": {
   "display_name": "Python 3",
   "language": "python",
   "name": "python3"
  },
  "language_info": {
   "codemirror_mode": {
    "name": "ipython",
    "version": 3
   },
   "file_extension": ".py",
   "mimetype": "text/x-python",
   "name": "python",
   "nbconvert_exporter": "python",
   "pygments_lexer": "ipython3",
   "version": "3.7.6"
  },
  "papermill": {
   "duration": 7513.907439,
   "end_time": "2020-10-27T12:47:57.773184",
   "environment_variables": {},
   "exception": null,
   "input_path": "__notebook__.ipynb",
   "output_path": "__notebook__.ipynb",
   "parameters": {},
   "start_time": "2020-10-27T10:42:43.865745",
   "version": "2.1.0"
  }
 },
 "nbformat": 4,
 "nbformat_minor": 4
}
